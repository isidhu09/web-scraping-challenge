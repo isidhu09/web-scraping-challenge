{
 "cells": [
  {
   "cell_type": "code",
   "execution_count": null,
   "id": "0c794f1c",
   "metadata": {},
   "outputs": [],
   "source": [
    "#importing dependencies\n",
    "import pandas as pd\n",
    "import requests\n",
    "from splinter import Browser\n",
    "from bs4 import BeautifulSoup as bs\n",
    "from webdriver_manager.chrome import ChromeDriverManager"
   ]
  },
  {
   "cell_type": "code",
   "execution_count": null,
   "id": "fdd35c45",
   "metadata": {},
   "outputs": [],
   "source": [
    "#setup splinter\n",
    "executable_path = {'executable_path': ChromeDriverManager().install()}\n",
    "browser = Browser('chrome', **executable_path, headless=False)"
   ]
  },
  {
   "cell_type": "markdown",
   "id": "8860ed42",
   "metadata": {},
   "source": [
    "NASA Mars News"
   ]
  },
  {
   "cell_type": "code",
   "execution_count": null,
   "id": "ba36d282",
   "metadata": {},
   "outputs": [],
   "source": [
    "#setting link\n",
    "news_url = 'https://redplanetscience.com/'\n",
    "browser.visit(news_url)"
   ]
  },
  {
   "cell_type": "code",
   "execution_count": null,
   "id": "947f9b1c",
   "metadata": {},
   "outputs": [],
   "source": [
    "#delay due to slow load time\n",
    "browser.is_element_present_by_css('div.list_text', wait_time=5)"
   ]
  },
  {
   "cell_type": "code",
   "execution_count": null,
   "id": "9d3c0435",
   "metadata": {},
   "outputs": [],
   "source": [
    "#scrape and store article title/paragraph\n",
    "html = browser.html\n",
    "soup = bs(html, 'html.parser')\n",
    "news_title = soup.find('div', class_='content_title').text\n",
    "news_para = soup.find('div', class_='article_teaser_body').text\n",
    "print(news_title)\n",
    "print(news_para)"
   ]
  },
  {
   "cell_type": "markdown",
   "id": "306d719b",
   "metadata": {},
   "source": [
    "JPL Mars Space Images-Featured Image"
   ]
  },
  {
   "cell_type": "code",
   "execution_count": null,
   "id": "31be5e2f",
   "metadata": {},
   "outputs": [],
   "source": [
    "#setting link\n",
    "jpl_url = 'https://spaceimages-mars.com/'\n",
    "browser.visit(jpl_url)"
   ]
  },
  {
   "cell_type": "code",
   "execution_count": null,
   "id": "14ab1e49",
   "metadata": {},
   "outputs": [],
   "source": [
    "#delay due to slow load time\n",
    "browser.is_element_present_by_css('div.list_text', wait_time=5)"
   ]
  },
  {
   "cell_type": "code",
   "execution_count": null,
   "id": "be4f9163",
   "metadata": {},
   "outputs": [],
   "source": [
    "#scrape and store img source\n",
    "html = browser.html\n",
    "soup = bs(html, 'html.parser')\n",
    "image_url = jpl_url + soup.find('img', class_='headerimage fade-in')['src']\n",
    "print(image_url)"
   ]
  },
  {
   "cell_type": "markdown",
   "id": "b06a3482",
   "metadata": {},
   "source": [
    "Mars Facts"
   ]
  },
  {
   "cell_type": "code",
   "execution_count": null,
   "id": "18665e8a",
   "metadata": {},
   "outputs": [],
   "source": [
    "#setting link\n",
    "fact_url = 'https://galaxyfacts-mars.com/'"
   ]
  },
  {
   "cell_type": "code",
   "execution_count": null,
   "id": "1b2bfb80",
   "metadata": {},
   "outputs": [],
   "source": [
    "#setting df\n",
    "facts_df = pd.read_html(fact_url, header=0,index_col=0)[0]"
   ]
  },
  {
   "cell_type": "code",
   "execution_count": null,
   "id": "532b485a",
   "metadata": {},
   "outputs": [],
   "source": [
    "facts_df.head()"
   ]
  },
  {
   "cell_type": "code",
   "execution_count": null,
   "id": "bc2c322d",
   "metadata": {},
   "outputs": [],
   "source": [
    "#setting df to html and removing new lines\n",
    "table = facts_df.to_html()\n",
    "table = table.replace('\\n', '')\n",
    "table"
   ]
  },
  {
   "cell_type": "markdown",
   "id": "70b450ca",
   "metadata": {},
   "source": [
    "Mars Hemispheres"
   ]
  },
  {
   "cell_type": "code",
   "execution_count": null,
   "id": "a0034120",
   "metadata": {},
   "outputs": [],
   "source": [
    "#setting link\n",
    "hemisphere_url = 'https://marshemispheres.com/'\n",
    "browser.visit(hemisphere_url)"
   ]
  },
  {
   "cell_type": "code",
   "execution_count": null,
   "id": "03a217ec",
   "metadata": {},
   "outputs": [],
   "source": [
    "#delay due to slow load time\n",
    "browser.is_element_present_by_css('div.wrapper', wait_time=5)"
   ]
  },
  {
   "cell_type": "code",
   "execution_count": null,
   "id": "94fcf8ed",
   "metadata": {},
   "outputs": [],
   "source": [
    "#scrape and store items\n",
    "html = browser.html\n",
    "soup = bs(html, 'html.parser')\n",
    "items = soup.find_all('div',class_='item')"
   ]
  },
  {
   "cell_type": "code",
   "execution_count": null,
   "id": "84329942",
   "metadata": {},
   "outputs": [],
   "source": [
    "#loop to get all title names and links\n",
    "links = []\n",
    "titles = []\n",
    "for item in items:\n",
    "    links.append(hemisphere_url + item.find('a')['href'])\n",
    "    titles.append(item.find('h3').text.strip())\n",
    "\n",
    "print(links)\n",
    "titles"
   ]
  },
  {
   "cell_type": "code",
   "execution_count": null,
   "id": "c4949555",
   "metadata": {},
   "outputs": [],
   "source": [
    "#loop to get images for each link\n",
    "image_urls = []\n",
    "for x in links:\n",
    "    browser.visit(x)\n",
    "    html = browser.html\n",
    "    soup = bs(html, 'html.parser')\n",
    "    x = hemisphere_url + soup.find('img',class_='wide-image')['src']\n",
    "    image_urls.append(x)\n",
    "\n",
    "print(image_urls)"
   ]
  },
  {
   "cell_type": "code",
   "execution_count": null,
   "id": "bea66ab7",
   "metadata": {},
   "outputs": [],
   "source": [
    "#combining title and link\n",
    "hemisphere_image_urls = []\n",
    "for x in range(0,len(titles)):\n",
    "    hemisphere_image_urls.append({'title':titles[x],'img_url':image_urls[x]})\n",
    "print(hemisphere_image_urls)"
   ]
  },
  {
   "cell_type": "code",
   "execution_count": null,
   "id": "845b0ac6",
   "metadata": {},
   "outputs": [],
   "source": [
    "#quit browser\n",
    "browser.quit()"
   ]
  },
  {
   "cell_type": "markdown",
   "id": "d39478ba",
   "metadata": {},
   "source": [
    "Part 2"
   ]
  },
  {
   "cell_type": "code",
   "execution_count": null,
   "id": "4624f0fe",
   "metadata": {},
   "outputs": [],
   "source": [
    "#making dict for scrape data\n",
    "data = {}\n",
    "data['news_title'] = news_title\n",
    "data['news_para'] = news_para\n",
    "data['image_url'] = image_url\n",
    "data['table'] = table\n",
    "data['hemisphere_image_urls'] = hemisphere_image_urls\n",
    "data"
   ]
  },
  {
   "cell_type": "code",
   "execution_count": null,
   "id": "d93624d5",
   "metadata": {},
   "outputs": [],
   "source": []
  }
 ],
 "metadata": {
  "kernelspec": {
   "display_name": "Python [conda env:PythonData38] *",
   "language": "python",
   "name": "conda-env-PythonData38-py"
  },
  "language_info": {
   "codemirror_mode": {
    "name": "ipython",
    "version": 3
   },
   "file_extension": ".py",
   "mimetype": "text/x-python",
   "name": "python",
   "nbconvert_exporter": "python",
   "pygments_lexer": "ipython3",
   "version": "3.8.12"
  }
 },
 "nbformat": 4,
 "nbformat_minor": 5
}
